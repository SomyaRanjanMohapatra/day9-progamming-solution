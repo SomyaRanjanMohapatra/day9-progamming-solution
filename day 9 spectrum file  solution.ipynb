{
 "cells": [
  {
   "cell_type": "code",
   "execution_count": 5,
   "metadata": {},
   "outputs": [
    {
     "name": "stdout",
     "output_type": "stream",
     "text": [
      "18\n"
     ]
    }
   ],
   "source": [
    "import math\n",
    "def sumofoddfactors(n):\n",
    "    res=1\n",
    "    while n%2==0:\n",
    "        n=n//2\n",
    "    for i in range(3,int(math.sqrt(n))+1):\n",
    "        count=0\n",
    "        curr_sum=1\n",
    "        curr_term=1\n",
    "        while n%i==0:\n",
    "            count=count+1\n",
    "            n=n//i\n",
    "            curr_term*=i;\n",
    "            curr_sum+=curr_term\n",
    "        res*=curr_term    \n",
    "    if n>=2:\n",
    "        res*=(1+n)\n",
    "    return res\n",
    "n =30\n",
    "print(sumofoddfactors(n))"
   ]
  },
  {
   "cell_type": "code",
   "execution_count": null,
   "metadata": {},
   "outputs": [],
   "source": []
  }
 ],
 "metadata": {
  "kernelspec": {
   "display_name": "Python 2",
   "language": "python",
   "name": "python2"
  },
  "language_info": {
   "codemirror_mode": {
    "name": "ipython",
    "version": 2
   },
   "file_extension": ".py",
   "mimetype": "text/x-python",
   "name": "python",
   "nbconvert_exporter": "python",
   "pygments_lexer": "ipython2",
   "version": "2.7.16"
  }
 },
 "nbformat": 4,
 "nbformat_minor": 2
}
